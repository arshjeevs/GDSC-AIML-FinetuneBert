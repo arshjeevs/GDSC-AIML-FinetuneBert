{
  "metadata": {
    "kernelspec": {
      "display_name": "Python 3",
      "name": "python3"
    },
    "language_info": {
      "name": "python",
      "version": "3.7.12",
      "mimetype": "text/x-python",
      "codemirror_mode": {
        "name": "ipython",
        "version": 3
      },
      "pygments_lexer": "ipython3",
      "nbconvert_exporter": "python",
      "file_extension": ".py"
    },
    "kaggle": {
      "accelerator": "gpu",
      "dataSources": [],
      "dockerImageVersionId": 30356,
      "isInternetEnabled": true,
      "language": "python",
      "sourceType": "notebook",
      "isGpuEnabled": true
    },
    "colab": {
      "provenance": [],
      "gpuType": "T4",
      "include_colab_link": true
    },
    "accelerator": "GPU"
  },
  "nbformat_minor": 0,
  "nbformat": 4,
  "cells": [
    {
      "cell_type": "markdown",
      "metadata": {
        "id": "view-in-github",
        "colab_type": "text"
      },
      "source": [
        "<a href=\"https://colab.research.google.com/github/arshjeevs/GDSC-AIML-FinetuneBert/blob/main/Finetune_Bert_Classification.ipynb\" target=\"_parent\"><img src=\"https://colab.research.google.com/assets/colab-badge.svg\" alt=\"Open In Colab\"/></a>"
      ]
    },
    {
      "cell_type": "code",
      "source": [
        "!pip install datasets"
      ],
      "metadata": {
        "colab": {
          "base_uri": "https://localhost:8080/"
        },
        "id": "lwn1VOcH7VWw",
        "outputId": "1c84b6dc-92e7-438b-a9b1-e91be9a30c6e"
      },
      "execution_count": null,
      "outputs": [
        {
          "output_type": "stream",
          "name": "stdout",
          "text": [
            "Requirement already satisfied: datasets in /usr/local/lib/python3.10/dist-packages (3.2.0)\n",
            "Requirement already satisfied: filelock in /usr/local/lib/python3.10/dist-packages (from datasets) (3.16.1)\n",
            "Requirement already satisfied: numpy>=1.17 in /usr/local/lib/python3.10/dist-packages (from datasets) (1.26.4)\n",
            "Requirement already satisfied: pyarrow>=15.0.0 in /usr/local/lib/python3.10/dist-packages (from datasets) (17.0.0)\n",
            "Requirement already satisfied: dill<0.3.9,>=0.3.0 in /usr/local/lib/python3.10/dist-packages (from datasets) (0.3.8)\n",
            "Requirement already satisfied: pandas in /usr/local/lib/python3.10/dist-packages (from datasets) (2.2.2)\n",
            "Requirement already satisfied: requests>=2.32.2 in /usr/local/lib/python3.10/dist-packages (from datasets) (2.32.3)\n",
            "Requirement already satisfied: tqdm>=4.66.3 in /usr/local/lib/python3.10/dist-packages (from datasets) (4.66.6)\n",
            "Requirement already satisfied: xxhash in /usr/local/lib/python3.10/dist-packages (from datasets) (3.5.0)\n",
            "Requirement already satisfied: multiprocess<0.70.17 in /usr/local/lib/python3.10/dist-packages (from datasets) (0.70.16)\n",
            "Requirement already satisfied: fsspec<=2024.9.0,>=2023.1.0 in /usr/local/lib/python3.10/dist-packages (from fsspec[http]<=2024.9.0,>=2023.1.0->datasets) (2024.9.0)\n",
            "Requirement already satisfied: aiohttp in /usr/local/lib/python3.10/dist-packages (from datasets) (3.11.10)\n",
            "Requirement already satisfied: huggingface-hub>=0.23.0 in /usr/local/lib/python3.10/dist-packages (from datasets) (0.26.5)\n",
            "Requirement already satisfied: packaging in /usr/local/lib/python3.10/dist-packages (from datasets) (24.2)\n",
            "Requirement already satisfied: pyyaml>=5.1 in /usr/local/lib/python3.10/dist-packages (from datasets) (6.0.2)\n",
            "Requirement already satisfied: aiohappyeyeballs>=2.3.0 in /usr/local/lib/python3.10/dist-packages (from aiohttp->datasets) (2.4.4)\n",
            "Requirement already satisfied: aiosignal>=1.1.2 in /usr/local/lib/python3.10/dist-packages (from aiohttp->datasets) (1.3.1)\n",
            "Requirement already satisfied: async-timeout<6.0,>=4.0 in /usr/local/lib/python3.10/dist-packages (from aiohttp->datasets) (4.0.3)\n",
            "Requirement already satisfied: attrs>=17.3.0 in /usr/local/lib/python3.10/dist-packages (from aiohttp->datasets) (24.2.0)\n",
            "Requirement already satisfied: frozenlist>=1.1.1 in /usr/local/lib/python3.10/dist-packages (from aiohttp->datasets) (1.5.0)\n",
            "Requirement already satisfied: multidict<7.0,>=4.5 in /usr/local/lib/python3.10/dist-packages (from aiohttp->datasets) (6.1.0)\n",
            "Requirement already satisfied: propcache>=0.2.0 in /usr/local/lib/python3.10/dist-packages (from aiohttp->datasets) (0.2.1)\n",
            "Requirement already satisfied: yarl<2.0,>=1.17.0 in /usr/local/lib/python3.10/dist-packages (from aiohttp->datasets) (1.18.3)\n",
            "Requirement already satisfied: typing-extensions>=3.7.4.3 in /usr/local/lib/python3.10/dist-packages (from huggingface-hub>=0.23.0->datasets) (4.12.2)\n",
            "Requirement already satisfied: charset-normalizer<4,>=2 in /usr/local/lib/python3.10/dist-packages (from requests>=2.32.2->datasets) (3.4.0)\n",
            "Requirement already satisfied: idna<4,>=2.5 in /usr/local/lib/python3.10/dist-packages (from requests>=2.32.2->datasets) (3.10)\n",
            "Requirement already satisfied: urllib3<3,>=1.21.1 in /usr/local/lib/python3.10/dist-packages (from requests>=2.32.2->datasets) (2.2.3)\n",
            "Requirement already satisfied: certifi>=2017.4.17 in /usr/local/lib/python3.10/dist-packages (from requests>=2.32.2->datasets) (2024.8.30)\n",
            "Requirement already satisfied: python-dateutil>=2.8.2 in /usr/local/lib/python3.10/dist-packages (from pandas->datasets) (2.8.2)\n",
            "Requirement already satisfied: pytz>=2020.1 in /usr/local/lib/python3.10/dist-packages (from pandas->datasets) (2024.2)\n",
            "Requirement already satisfied: tzdata>=2022.7 in /usr/local/lib/python3.10/dist-packages (from pandas->datasets) (2024.2)\n",
            "Requirement already satisfied: six>=1.5 in /usr/local/lib/python3.10/dist-packages (from python-dateutil>=2.8.2->pandas->datasets) (1.17.0)\n"
          ]
        }
      ]
    },
    {
      "cell_type": "code",
      "source": [
        "import tensorflow as tf\n",
        "from transformers import TFAutoModel, AutoTokenizer\n",
        "from datasets import load_dataset"
      ],
      "metadata": {
        "execution": {
          "iopub.status.busy": "2024-12-15T10:42:29.127880Z",
          "iopub.execute_input": "2024-12-15T10:42:29.128251Z",
          "iopub.status.idle": "2024-12-15T10:42:29.132708Z",
          "shell.execute_reply.started": "2024-12-15T10:42:29.128225Z",
          "shell.execute_reply": "2024-12-15T10:42:29.131757Z"
        },
        "trusted": true,
        "id": "RAUAQKOn6_7I"
      },
      "outputs": [],
      "execution_count": null
    },
    {
      "cell_type": "code",
      "source": [
        "model = TFAutoModel.from_pretrained(\"bert-base-uncased\")"
      ],
      "metadata": {
        "execution": {
          "iopub.status.busy": "2024-12-15T10:42:30.383954Z",
          "iopub.execute_input": "2024-12-15T10:42:30.384828Z",
          "iopub.status.idle": "2024-12-15T10:42:48.914047Z",
          "shell.execute_reply.started": "2024-12-15T10:42:30.384793Z",
          "shell.execute_reply": "2024-12-15T10:42:48.913073Z"
        },
        "trusted": true,
        "colab": {
          "base_uri": "https://localhost:8080/"
        },
        "id": "L_jRp2m66_7K",
        "outputId": "1be62383-805b-499d-f1fa-393495d080aa"
      },
      "outputs": [
        {
          "output_type": "stream",
          "name": "stderr",
          "text": [
            "/usr/local/lib/python3.10/dist-packages/huggingface_hub/utils/_auth.py:94: UserWarning: \n",
            "The secret `HF_TOKEN` does not exist in your Colab secrets.\n",
            "To authenticate with the Hugging Face Hub, create a token in your settings tab (https://huggingface.co/settings/tokens), set it as secret in your Google Colab and restart your session.\n",
            "You will be able to reuse this secret in all of your notebooks.\n",
            "Please note that authentication is recommended but still optional to access public models or datasets.\n",
            "  warnings.warn(\n",
            "Some weights of the PyTorch model were not used when initializing the TF 2.0 model TFBertModel: ['cls.predictions.transform.LayerNorm.bias', 'cls.seq_relationship.bias', 'cls.predictions.transform.dense.bias', 'cls.seq_relationship.weight', 'cls.predictions.transform.LayerNorm.weight', 'cls.predictions.bias', 'cls.predictions.transform.dense.weight']\n",
            "- This IS expected if you are initializing TFBertModel from a PyTorch model trained on another task or with another architecture (e.g. initializing a TFBertForSequenceClassification model from a BertForPreTraining model).\n",
            "- This IS NOT expected if you are initializing TFBertModel from a PyTorch model that you expect to be exactly identical (e.g. initializing a TFBertForSequenceClassification model from a BertForSequenceClassification model).\n",
            "All the weights of TFBertModel were initialized from the PyTorch model.\n",
            "If your task is similar to the task the model of the checkpoint was trained on, you can already use TFBertModel for predictions without further training.\n"
          ]
        }
      ],
      "execution_count": null
    },
    {
      "cell_type": "code",
      "source": [
        "tokenizer = AutoTokenizer.from_pretrained(\"bert-base-uncased\")"
      ],
      "metadata": {
        "execution": {
          "iopub.status.busy": "2024-12-15T07:17:01.312954Z",
          "iopub.execute_input": "2024-12-15T07:17:01.313794Z",
          "iopub.status.idle": "2024-12-15T07:17:02.439746Z",
          "shell.execute_reply.started": "2024-12-15T07:17:01.313758Z",
          "shell.execute_reply": "2024-12-15T07:17:02.438889Z"
        },
        "trusted": true,
        "id": "YIEaeuvm6_7M"
      },
      "outputs": [],
      "execution_count": null
    },
    {
      "cell_type": "code",
      "source": [
        "inputs = tokenizer(['Hello world', 'Hi how are you'], padding=True, truncation=True,\n",
        "                  return_tensors='tf')\n",
        "inputs"
      ],
      "metadata": {
        "execution": {
          "iopub.status.busy": "2024-12-15T07:17:02.441406Z",
          "iopub.execute_input": "2024-12-15T07:17:02.441759Z",
          "iopub.status.idle": "2024-12-15T07:17:02.457318Z",
          "shell.execute_reply.started": "2024-12-15T07:17:02.441726Z",
          "shell.execute_reply": "2024-12-15T07:17:02.456561Z"
        },
        "trusted": true,
        "colab": {
          "base_uri": "https://localhost:8080/"
        },
        "id": "3l2VwPn_6_7N",
        "outputId": "eed2dc1c-2ba6-479c-f68f-6e48ca4ff82b"
      },
      "outputs": [
        {
          "output_type": "execute_result",
          "data": {
            "text/plain": [
              "{'input_ids': <tf.Tensor: shape=(2, 6), dtype=int32, numpy=\n",
              "array([[ 101, 7592, 2088,  102,    0,    0],\n",
              "       [ 101, 7632, 2129, 2024, 2017,  102]], dtype=int32)>, 'token_type_ids': <tf.Tensor: shape=(2, 6), dtype=int32, numpy=\n",
              "array([[0, 0, 0, 0, 0, 0],\n",
              "       [0, 0, 0, 0, 0, 0]], dtype=int32)>, 'attention_mask': <tf.Tensor: shape=(2, 6), dtype=int32, numpy=\n",
              "array([[1, 1, 1, 1, 0, 0],\n",
              "       [1, 1, 1, 1, 1, 1]], dtype=int32)>}"
            ]
          },
          "metadata": {},
          "execution_count": 6
        }
      ],
      "execution_count": null
    },
    {
      "cell_type": "code",
      "source": [
        "output = model(inputs)\n",
        "output"
      ],
      "metadata": {
        "execution": {
          "iopub.status.busy": "2024-12-15T07:17:03.563653Z",
          "iopub.execute_input": "2024-12-15T07:17:03.564003Z",
          "iopub.status.idle": "2024-12-15T07:17:03.666787Z",
          "shell.execute_reply.started": "2024-12-15T07:17:03.563974Z",
          "shell.execute_reply": "2024-12-15T07:17:03.665868Z"
        },
        "trusted": true,
        "colab": {
          "base_uri": "https://localhost:8080/"
        },
        "id": "5k0wf1Et6_7N",
        "outputId": "3a688309-802b-4818-ccb7-b3aa3da3145f"
      },
      "outputs": [
        {
          "output_type": "execute_result",
          "data": {
            "text/plain": [
              "TFBaseModelOutputWithPoolingAndCrossAttentions(last_hidden_state=<tf.Tensor: shape=(2, 6, 768), dtype=float32, numpy=\n",
              "array([[[-0.16888347,  0.13606343, -0.13940008, ..., -0.62511253,\n",
              "          0.05217249,  0.36714518],\n",
              "        [-0.36327496,  0.141219  ,  0.8799887 , ...,  0.10433014,\n",
              "          0.28875715,  0.37267905],\n",
              "        [-0.69859457, -0.6987977 ,  0.06450307, ..., -0.22103623,\n",
              "          0.00986801, -0.5939793 ],\n",
              "        [ 0.83098286,  0.12366664, -0.15119055, ...,  0.10309657,\n",
              "         -0.67792624, -0.26285192],\n",
              "        [-0.40266645, -0.01928245,  0.5732506 , ..., -0.20656855,\n",
              "          0.02338552,  0.20126328],\n",
              "        [-0.622841  , -0.27453434,  0.18117732, ..., -0.12944853,\n",
              "         -0.03839068, -0.05733174]],\n",
              "\n",
              "       [[ 0.09286523, -0.02636338, -0.12239328, ..., -0.2106356 ,\n",
              "          0.17386404,  0.17250954],\n",
              "        [ 0.4074202 , -0.05930961,  0.5523475 , ..., -0.67905706,\n",
              "          0.6555752 , -0.29456577],\n",
              "        [-0.21155253, -0.6858638 , -0.46280712, ...,  0.15278488,\n",
              "          0.5977416 , -0.91020197],\n",
              "        [ 0.39921194, -1.3207803 , -0.08008809, ..., -0.3212537 ,\n",
              "          0.25572893, -0.5780442 ],\n",
              "        [-0.07565162, -1.339384  ,  0.18162999, ...,  0.07461197,\n",
              "          0.40318534, -0.7079981 ],\n",
              "        [ 0.5988932 , -0.28409386, -0.3489918 , ...,  0.30420086,\n",
              "         -0.43675494, -0.20969607]]], dtype=float32)>, pooler_output=<tf.Tensor: shape=(2, 768), dtype=float32, numpy=\n",
              "array([[-0.9061534 , -0.31115308, -0.6216541 , ..., -0.30575216,\n",
              "        -0.640094  ,  0.9166176 ],\n",
              "       [-0.9309668 , -0.33807057, -0.62161636, ..., -0.4401901 ,\n",
              "        -0.6812885 ,  0.9348896 ]], dtype=float32)>, past_key_values=None, hidden_states=None, attentions=None, cross_attentions=None)"
            ]
          },
          "metadata": {},
          "execution_count": 7
        }
      ],
      "execution_count": null
    },
    {
      "cell_type": "code",
      "source": [
        "emotions = load_dataset('SetFit/emotion')"
      ],
      "metadata": {
        "execution": {
          "iopub.status.busy": "2024-12-15T07:17:10.032390Z",
          "iopub.execute_input": "2024-12-15T07:17:10.032754Z",
          "iopub.status.idle": "2024-12-15T07:17:36.165911Z",
          "shell.execute_reply.started": "2024-12-15T07:17:10.032725Z",
          "shell.execute_reply": "2024-12-15T07:17:36.165028Z"
        },
        "trusted": true,
        "colab": {
          "base_uri": "https://localhost:8080/"
        },
        "id": "Nnl4_rgf6_7O",
        "outputId": "58af0175-642f-450a-e2a7-65a4dfc8dd57"
      },
      "outputs": [
        {
          "output_type": "stream",
          "name": "stderr",
          "text": [
            "Repo card metadata block was not found. Setting CardData to empty.\n",
            "WARNING:huggingface_hub.repocard:Repo card metadata block was not found. Setting CardData to empty.\n"
          ]
        }
      ],
      "execution_count": null
    },
    {
      "cell_type": "code",
      "source": [
        "emotions"
      ],
      "metadata": {
        "execution": {
          "iopub.status.busy": "2024-12-15T07:17:47.859939Z",
          "iopub.execute_input": "2024-12-15T07:17:47.860710Z",
          "iopub.status.idle": "2024-12-15T07:17:47.866774Z",
          "shell.execute_reply.started": "2024-12-15T07:17:47.860675Z",
          "shell.execute_reply": "2024-12-15T07:17:47.865645Z"
        },
        "trusted": true,
        "colab": {
          "base_uri": "https://localhost:8080/"
        },
        "id": "TMOl2Nne6_7P",
        "outputId": "911391f1-d3f1-4c24-b962-83e9de00b143"
      },
      "outputs": [
        {
          "output_type": "execute_result",
          "data": {
            "text/plain": [
              "DatasetDict({\n",
              "    train: Dataset({\n",
              "        features: ['text', 'label', 'label_text'],\n",
              "        num_rows: 16000\n",
              "    })\n",
              "    validation: Dataset({\n",
              "        features: ['text', 'label', 'label_text'],\n",
              "        num_rows: 2000\n",
              "    })\n",
              "    test: Dataset({\n",
              "        features: ['text', 'label', 'label_text'],\n",
              "        num_rows: 2000\n",
              "    })\n",
              "})"
            ]
          },
          "metadata": {},
          "execution_count": 9
        }
      ],
      "execution_count": null
    },
    {
      "cell_type": "code",
      "source": [
        "def tokenize(batch):\n",
        "    return tokenizer(batch[\"text\"], padding=True, truncation=True)"
      ],
      "metadata": {
        "execution": {
          "iopub.status.busy": "2024-12-15T07:17:49.517563Z",
          "iopub.execute_input": "2024-12-15T07:17:49.518507Z",
          "iopub.status.idle": "2024-12-15T07:17:49.522566Z",
          "shell.execute_reply.started": "2024-12-15T07:17:49.518472Z",
          "shell.execute_reply": "2024-12-15T07:17:49.521694Z"
        },
        "trusted": true,
        "id": "Pn2AsdCR6_7P"
      },
      "outputs": [],
      "execution_count": null
    },
    {
      "cell_type": "code",
      "source": [
        "emotions_encoded = emotions.map(tokenize, batched=True, batch_size=None)"
      ],
      "metadata": {
        "execution": {
          "iopub.status.busy": "2024-12-15T07:17:50.381085Z",
          "iopub.execute_input": "2024-12-15T07:17:50.381444Z",
          "iopub.status.idle": "2024-12-15T07:18:54.682115Z",
          "shell.execute_reply.started": "2024-12-15T07:17:50.381411Z",
          "shell.execute_reply": "2024-12-15T07:18:54.681298Z"
        },
        "trusted": true,
        "id": "gzhwUoCn6_7P"
      },
      "outputs": [],
      "execution_count": null
    },
    {
      "cell_type": "code",
      "source": [
        "emotions_encoded"
      ],
      "metadata": {
        "execution": {
          "iopub.status.busy": "2024-12-15T07:18:59.550681Z",
          "iopub.execute_input": "2024-12-15T07:18:59.551283Z",
          "iopub.status.idle": "2024-12-15T07:18:59.557638Z",
          "shell.execute_reply.started": "2024-12-15T07:18:59.551251Z",
          "shell.execute_reply": "2024-12-15T07:18:59.556785Z"
        },
        "trusted": true,
        "colab": {
          "base_uri": "https://localhost:8080/"
        },
        "id": "OY7IHkGI6_7Q",
        "outputId": "55f2671e-1193-4ac8-847d-a9105359fec2"
      },
      "outputs": [
        {
          "output_type": "execute_result",
          "data": {
            "text/plain": [
              "DatasetDict({\n",
              "    train: Dataset({\n",
              "        features: ['text', 'label', 'label_text', 'input_ids', 'token_type_ids', 'attention_mask'],\n",
              "        num_rows: 16000\n",
              "    })\n",
              "    validation: Dataset({\n",
              "        features: ['text', 'label', 'label_text', 'input_ids', 'token_type_ids', 'attention_mask'],\n",
              "        num_rows: 2000\n",
              "    })\n",
              "    test: Dataset({\n",
              "        features: ['text', 'label', 'label_text', 'input_ids', 'token_type_ids', 'attention_mask'],\n",
              "        num_rows: 2000\n",
              "    })\n",
              "})"
            ]
          },
          "metadata": {},
          "execution_count": 12
        }
      ],
      "execution_count": null
    },
    {
      "cell_type": "code",
      "source": [
        "emotions_encoded.set_format('tf',\n",
        "                            columns=['input_ids', 'attention_mask', 'token_type_ids', 'label'])\n",
        "\n",
        "BATCH_SIZE = 64\n",
        "\n",
        "def order(inp):\n",
        "    '''\n",
        "    This function will group all the inputs of BERT\n",
        "    into a single dictionary and then output it with\n",
        "    labels.\n",
        "    '''\n",
        "    data = list(inp.values())\n",
        "    return {\n",
        "        'input_ids': data[1],\n",
        "        'attention_mask': data[2],\n",
        "        'token_type_ids': data[3]\n",
        "    }, data[0]\n",
        "\n",
        "train_dataset = tf.data.Dataset.from_tensor_slices(emotions_encoded['train'][:])\n",
        "train_dataset = train_dataset.batch(BATCH_SIZE).shuffle(1000)\n",
        "train_dataset = train_dataset.map(order, num_parallel_calls=tf.data.AUTOTUNE)\n",
        "\n",
        "test_dataset = tf.data.Dataset.from_tensor_slices(emotions_encoded['test'][:])\n",
        "test_dataset = test_dataset.batch(BATCH_SIZE)\n",
        "test_dataset = test_dataset.map(order, num_parallel_calls=tf.data.AUTOTUNE)"
      ],
      "metadata": {
        "execution": {
          "iopub.status.busy": "2024-12-15T07:19:11.810089Z",
          "iopub.execute_input": "2024-12-15T07:19:11.810448Z",
          "iopub.status.idle": "2024-12-15T07:19:14.094039Z",
          "shell.execute_reply.started": "2024-12-15T07:19:11.810416Z",
          "shell.execute_reply": "2024-12-15T07:19:14.093300Z"
        },
        "trusted": true,
        "id": "lbGbR7Nk6_7R"
      },
      "outputs": [],
      "execution_count": null
    },
    {
      "cell_type": "code",
      "source": [
        "inp, out = next(iter(train_dataset))\n",
        "print(inp, '\\n\\n', out)"
      ],
      "metadata": {
        "execution": {
          "iopub.status.busy": "2024-12-15T07:19:18.226185Z",
          "iopub.execute_input": "2024-12-15T07:19:18.227010Z",
          "iopub.status.idle": "2024-12-15T07:19:18.861294Z",
          "shell.execute_reply.started": "2024-12-15T07:19:18.226975Z",
          "shell.execute_reply": "2024-12-15T07:19:18.860386Z"
        },
        "trusted": true,
        "colab": {
          "base_uri": "https://localhost:8080/"
        },
        "id": "6zGU8LMH6_7R",
        "outputId": "75cbc05e-ad74-486c-a64b-98506540e00e"
      },
      "outputs": [
        {
          "output_type": "stream",
          "name": "stdout",
          "text": [
            "{'input_ids': <tf.Tensor: shape=(64, 87), dtype=int64, numpy=\n",
            "array([[ 101, 1045, 2514, ...,    0,    0,    0],\n",
            "       [ 101, 1045, 2187, ...,    0,    0,    0],\n",
            "       [ 101, 1045, 2572, ...,    0,    0,    0],\n",
            "       ...,\n",
            "       [ 101, 1045, 2064, ...,    0,    0,    0],\n",
            "       [ 101, 1045, 2272, ...,    0,    0,    0],\n",
            "       [ 101, 1045, 2514, ...,    0,    0,    0]])>, 'attention_mask': <tf.Tensor: shape=(64, 87), dtype=int64, numpy=\n",
            "array([[0, 0, 0, ..., 0, 0, 0],\n",
            "       [0, 0, 0, ..., 0, 0, 0],\n",
            "       [0, 0, 0, ..., 0, 0, 0],\n",
            "       ...,\n",
            "       [0, 0, 0, ..., 0, 0, 0],\n",
            "       [0, 0, 0, ..., 0, 0, 0],\n",
            "       [0, 0, 0, ..., 0, 0, 0]])>, 'token_type_ids': <tf.Tensor: shape=(64, 87), dtype=int64, numpy=\n",
            "array([[1, 1, 1, ..., 0, 0, 0],\n",
            "       [1, 1, 1, ..., 0, 0, 0],\n",
            "       [1, 1, 1, ..., 0, 0, 0],\n",
            "       ...,\n",
            "       [1, 1, 1, ..., 0, 0, 0],\n",
            "       [1, 1, 1, ..., 0, 0, 0],\n",
            "       [1, 1, 1, ..., 0, 0, 0]])>} \n",
            "\n",
            " tf.Tensor(\n",
            "[2 1 3 2 4 3 1 4 0 2 0 0 0 1 0 1 1 3 1 3 1 3 0 3 4 5 1 1 1 3 1 1 4 5 0 4 1\n",
            " 1 3 4 1 2 0 1 4 1 5 1 0 1 5 3 0 3 0 1 1 1 1 1 2 2 3 1], shape=(64,), dtype=int64)\n"
          ]
        }
      ],
      "execution_count": null
    },
    {
      "cell_type": "code",
      "source": [
        "class BERTForClassification(tf.keras.Model):\n",
        "\n",
        "    def __init__(self, bert_model, num_classes):\n",
        "        super().__init__()\n",
        "        self.bert = bert_model\n",
        "        self.fc = tf.keras.layers.Dense(num_classes, activation='softmax')\n",
        "\n",
        "    def call(self, inputs):\n",
        "        x = self.bert(inputs)[1]\n",
        "        return self.fc(x)"
      ],
      "metadata": {
        "execution": {
          "iopub.status.busy": "2024-12-15T07:19:20.537820Z",
          "iopub.execute_input": "2024-12-15T07:19:20.538146Z",
          "iopub.status.idle": "2024-12-15T07:19:20.543595Z",
          "shell.execute_reply.started": "2024-12-15T07:19:20.538120Z",
          "shell.execute_reply": "2024-12-15T07:19:20.542636Z"
        },
        "trusted": true,
        "id": "i-UqV2pR6_7S"
      },
      "outputs": [],
      "execution_count": null
    },
    {
      "cell_type": "code",
      "source": [
        "classifier = BERTForClassification(model, num_classes=6)\n",
        "\n",
        "classifier.compile(\n",
        "    optimizer=tf.keras.optimizers.Adam(learning_rate=1e-5),\n",
        "    loss=tf.keras.losses.SparseCategoricalCrossentropy(),\n",
        "    metrics=['accuracy'],\n",
        "    run_eagerly=True\n",
        ")"
      ],
      "metadata": {
        "execution": {
          "iopub.status.busy": "2024-12-15T07:19:30.767234Z",
          "iopub.execute_input": "2024-12-15T07:19:30.767611Z",
          "iopub.status.idle": "2024-12-15T07:19:30.785590Z",
          "shell.execute_reply.started": "2024-12-15T07:19:30.767564Z",
          "shell.execute_reply": "2024-12-15T07:19:30.784694Z"
        },
        "trusted": true,
        "id": "cXpppsC96_7S"
      },
      "outputs": [],
      "execution_count": null
    },
    {
      "cell_type": "code",
      "source": [
        "history = classifier.fit(\n",
        "    train_dataset,\n",
        "    epochs=1,\n",
        ")"
      ],
      "metadata": {
        "trusted": true,
        "id": "29GwsX_C6_7T"
      },
      "outputs": [],
      "execution_count": null
    },
    {
      "cell_type": "code",
      "source": [
        "classifier.evaluate(test_dataset)"
      ],
      "metadata": {
        "execution": {
          "iopub.status.busy": "2024-12-14T15:09:37.949737Z",
          "iopub.execute_input": "2024-12-14T15:09:37.950019Z",
          "iopub.status.idle": "2024-12-14T15:09:45.528725Z",
          "shell.execute_reply.started": "2024-12-14T15:09:37.949992Z",
          "shell.execute_reply": "2024-12-14T15:09:45.527852Z"
        },
        "trusted": true,
        "id": "uW6gTiet6_7T",
        "outputId": "2b7171ee-fccf-4569-fcd9-082163b53f79"
      },
      "outputs": [
        {
          "name": "stdout",
          "text": "32/32 [==============================] - 8s 164ms/step - loss: 0.1895 - accuracy: 0.9205\n",
          "output_type": "stream"
        },
        {
          "execution_count": 32,
          "output_type": "execute_result",
          "data": {
            "text/plain": "[0.18953649699687958, 0.9204999804496765]"
          },
          "metadata": {}
        }
      ],
      "execution_count": null
    },
    {
      "cell_type": "code",
      "source": [],
      "metadata": {
        "trusted": true,
        "id": "lMAtGJM76_7T"
      },
      "outputs": [],
      "execution_count": null
    },
    {
      "cell_type": "code",
      "source": [],
      "metadata": {
        "trusted": true,
        "id": "IFOk2yy36_7U"
      },
      "outputs": [],
      "execution_count": null
    }
  ]
}